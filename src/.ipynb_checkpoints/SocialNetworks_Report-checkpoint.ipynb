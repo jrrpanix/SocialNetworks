{
 "cells": [
  {
   "cell_type": "code",
   "execution_count": 1,
   "metadata": {},
   "outputs": [],
   "source": [
    "import gzip\n",
    "import sys\n",
    "import os\n",
    "import binascii\n",
    "import datetime as dt\n",
    "import matplotlib.pyplot as plt\n",
    "import matplotlib.dates as mdates\n",
    "import numpy as np"
   ]
  },
  {
   "cell_type": "code",
   "execution_count": 2,
   "metadata": {},
   "outputs": [],
   "source": [
    "EC = \"../data/EC_OHLC_30.csv.gz\"\n",
    "ES = \"../data/ES_OHLC_30.csv.gz\"\n",
    "FV = \"../data/FV_OHLC_30.csv.gz\"\n",
    "NQ = \"../data/NQ_OHLC_30.csv.gz\"\n",
    "TY = \"../data/TY_OHLC_30.csv.gz\"\n",
    "UB = \"../data/UB_OHLC_30.csv.gz\"\n",
    "US = \"../data/US_OHLC_30.csv.gz\"\n",
    "ann = '../data/announcements-dailyfx.csv'"
   ]
  },
  {
   "cell_type": "code",
   "execution_count": 3,
   "metadata": {},
   "outputs": [],
   "source": [
    "class OHLC:\n",
    "\n",
    "    def __init__(self, ts0, O, H, L, C, T, V, ts=None):\n",
    "        self.ts0, self.O, self.H, self.L, self.C, self.T, self.V, self.ts = ts0, O, H, L, C, T, V, ts\n",
    "        if self.ts is None : self.ts = self.ts0\n",
    "\n",
    "    def __str__(self):\n",
    "        return (\"%s,%10.6f,%10.6f,%10.6f,%10.6f,%6d,%6d\") % (str(self.ts0),self.O, self.H, self.L, self.C, self.T, int(self.V))"
   ]
  },
  {
   "cell_type": "code",
   "execution_count": 4,
   "metadata": {},
   "outputs": [],
   "source": [
    "class Utils:\n",
    "\n",
    "    def DT(year, month, day, hour, minute, second):\n",
    "        return dt.datetime(year, month, day, hour, minute, second, 0)\n",
    "\n",
    "    def getDT(d, t, micros=False):\n",
    "        if \"/\" in d:\n",
    "            dv = d.split(\"/\")\n",
    "            year, month, day = int(dv[2]), int(dv[0]), int(dv[1])\n",
    "        else:\n",
    "            dv = d.split(\"-\")\n",
    "            year, month, day = int(dv[0]), int(dv[1]), int(dv[2])\n",
    "        tv =  t.split(\":\")\n",
    "        try:\n",
    "            h, m, s = int(tv[0]), int(tv[1]), int(tv[2].split(\".\")[0])\n",
    "            us = 0 if micros == False else int(tv[2].split(\".\")[-1])*1000\n",
    "        except:\n",
    "            print(\"Error parsing datetime time=%s, date=%s\" % (t, d))\n",
    "            return dt.datetime(2018,1,1)\n",
    "        return dt.datetime(year, month, day, h,m,s,us)\n",
    "\n",
    "    def parse(line):\n",
    "        # trades data : date, time, price, qty, flag -> datetime, price , qty\n",
    "        if type(line) != str: line = line.decode(\"ascii\")\n",
    "        dv = line.strip().split(\",\")\n",
    "        return OHLC(Utils.getDT(dv[0].split(\" \")[0],dv[0].split(\" \")[1]),\n",
    "                    float(dv[1]), float(dv[2]), float(dv[3]),float(dv[4]),int(dv[5]),float(dv[6]))"
   ]
  },
  {
   "cell_type": "code",
   "execution_count": 5,
   "metadata": {},
   "outputs": [],
   "source": [
    "def read_file(infile):\n",
    "    records=[]\n",
    "    with gzip.open(infile) as rdr:\n",
    "        for line in rdr:\n",
    "            records.append(Utils.parse(line))\n",
    "    return records"
   ]
  },
  {
   "cell_type": "code",
   "execution_count": 6,
   "metadata": {},
   "outputs": [],
   "source": [
    "def sortByMax(hist):\n",
    "    return sorted(hist, key = lambda x : x.H - x.L, reverse=True)\n"
   ]
  },
  {
   "cell_type": "code",
   "execution_count": 7,
   "metadata": {},
   "outputs": [],
   "source": [
    "def getRecords(hist, start, end):\n",
    "    rec = []\n",
    "    for h in hist:\n",
    "        if h.ts > end :\n",
    "            break\n",
    "        if h.ts >= start :\n",
    "            rec.append(h)\n",
    "    return rec\n"
   ]
  },
  {
   "cell_type": "code",
   "execution_count": 8,
   "metadata": {},
   "outputs": [],
   "source": [
    "def get_ancmt(ancmt, start, end):\n",
    "    rec = []\n",
    "    for a in ancmt:\n",
    "        if a[0] >= start and a[0] < end :\n",
    "            rec.append(a)\n",
    "    return rec"
   ]
  },
  {
   "cell_type": "code",
   "execution_count": 9,
   "metadata": {
    "scrolled": true
   },
   "outputs": [],
   "source": [
    "def parse_Ancmt(src):\n",
    "    arr = []\n",
    "    with open(src, 'r') as f:\n",
    "        for line in f:\n",
    "            line = line.rstrip().replace('\"', '').split(',')\n",
    "            if line[1] == \"usd\" and line[3] == \"High\":\n",
    "                date_time = line[0].split('T')\n",
    "                yy,mm,dd = date_time[0].split('-')\n",
    "                h,m,s = date_time[1].split(':')\n",
    "                line[0] = dt.datetime(int(yy),int(mm),int(dd),int(h),int(m),int(s))\n",
    "                arr.append(line)\n",
    "    return arr\n",
    "                "
   ]
  },
  {
   "cell_type": "code",
   "execution_count": 10,
   "metadata": {},
   "outputs": [],
   "source": [
    "def parse_sort(file, num):\n",
    "    hist = read_file(file)\n",
    "    records = sortByMax(hist)\n",
    "    top_array = []\n",
    "    for i in range(num):\n",
    "        line = str(records[i]).split(',')\n",
    "        date_time = line[0].split(' ')\n",
    "        yy,mm,dd = date_time[0].split('-')\n",
    "        h,m,s = date_time[1].split(':')\n",
    "        line[0] = dt.datetime(int(yy),int(mm),int(dd),int(h),int(m),int(s))\n",
    "        for j in range(1,7):\n",
    "            line[j] = float(line[j])\n",
    "        line.append(round(line[2]-line[3],6))\n",
    "        line.append(round(line[1]-line[4],6))\n",
    "        top_array.append(line)\n",
    "    return top_array, hist\n",
    "\n"
   ]
  },
  {
   "cell_type": "code",
   "execution_count": 11,
   "metadata": {},
   "outputs": [],
   "source": [
    "def get_date_range(array):\n",
    "    date_list = [array[i][0] for i in range(len(array))]\n",
    "    return min(date_list), max(date_list), date_list"
   ]
  },
  {
   "cell_type": "code",
   "execution_count": 12,
   "metadata": {},
   "outputs": [],
   "source": [
    "def ohlc_to_string(data):\n",
    "    arr = []\n",
    "    for i in range(len(data)):\n",
    "        line = str(data[i]).split(',')\n",
    "        date_time = line[0].split(' ')\n",
    "        yy,mm,dd = date_time[0].split('-')\n",
    "        h,m,s = date_time[1].split(':')\n",
    "        line[0] = dt.datetime(int(yy),int(mm),int(dd),int(h),int(m),int(s))\n",
    "        for j in range(1,7):\n",
    "            line[j] = float(line[j])\n",
    "        line.append(round(line[2]-line[3],6))\n",
    "        line.append(round(line[1]-line[4],6))\n",
    "        arr.append(line)\n",
    "    return arr  "
   ]
  },
  {
   "cell_type": "code",
   "execution_count": 19,
   "metadata": {},
   "outputs": [],
   "source": [
    "def main(filecode):\n",
    "    top_array, hist = parse_sort(filecode, 20)\n",
    "    start, end, top_date_list = get_date_range(top_array)\n",
    "    recs = getRecords(hist, start, end)\n",
    "    y = [r.O for r in recs]\n",
    "    x = [i for i in range(len(recs))]\n",
    "    \n",
    "    recs = ohlc_to_string(recs)\n",
    "    recs_ts = [r[0] for r in recs]\n",
    "    x1_ts = [r[0] for r in top_array]\n",
    "    x1 = []\n",
    "    for ts in x1_ts:\n",
    "        x1.append(recs_ts.index(ts))\n",
    "    y1 = [ r[1] for r in top_array]\n",
    "    \n",
    "    all_ancmt = get_ancmt(parse_Ancmt(ann), start, end)\n",
    "    x2_ts = [r[0] for r in all_ancmt]\n",
    "    x2 = []\n",
    "    for ts in x2_ts:\n",
    "        try:\n",
    "            i = recs_ts.index(ts)\n",
    "        except ValueError:\n",
    "            print('%s not found'.format(ts))\n",
    "        else:\n",
    "            x2.append(i)\n",
    "    print(x2)\n",
    "    \n",
    "    plt.figure(figsize=(20,10))\n",
    "    plt.plot(x,y)\n",
    "    plt.scatter(x1,y1, color='r', s =100)\n",
    "    plt.show()"
   ]
  },
  {
   "cell_type": "code",
   "execution_count": 20,
   "metadata": {},
   "outputs": [
    {
     "name": "stdout",
     "output_type": "stream",
     "text": [
      "%s not found\n",
      "%s not found\n",
      "%s not found\n",
      "%s not found\n",
      "%s not found\n",
      "%s not found\n",
      "%s not found\n",
      "%s not found\n",
      "%s not found\n",
      "%s not found\n",
      "%s not found\n",
      "%s not found\n",
      "%s not found\n",
      "%s not found\n",
      "%s not found\n",
      "%s not found\n",
      "%s not found\n",
      "%s not found\n",
      "%s not found\n",
      "%s not found\n",
      "%s not found\n",
      "%s not found\n",
      "%s not found\n",
      "%s not found\n",
      "%s not found\n",
      "%s not found\n",
      "%s not found\n",
      "%s not found\n",
      "%s not found\n",
      "%s not found\n",
      "%s not found\n",
      "%s not found\n",
      "%s not found\n",
      "%s not found\n",
      "%s not found\n",
      "%s not found\n",
      "%s not found\n",
      "%s not found\n",
      "%s not found\n",
      "%s not found\n",
      "%s not found\n",
      "%s not found\n",
      "%s not found\n",
      "%s not found\n",
      "%s not found\n",
      "%s not found\n",
      "%s not found\n",
      "%s not found\n",
      "%s not found\n",
      "%s not found\n",
      "%s not found\n",
      "%s not found\n",
      "%s not found\n",
      "%s not found\n",
      "%s not found\n",
      "%s not found\n",
      "%s not found\n",
      "%s not found\n",
      "%s not found\n",
      "%s not found\n",
      "%s not found\n",
      "%s not found\n",
      "%s not found\n",
      "%s not found\n",
      "%s not found\n",
      "%s not found\n",
      "%s not found\n",
      "%s not found\n",
      "%s not found\n",
      "%s not found\n",
      "%s not found\n",
      "%s not found\n",
      "%s not found\n",
      "%s not found\n",
      "%s not found\n",
      "%s not found\n",
      "%s not found\n",
      "%s not found\n",
      "%s not found\n",
      "%s not found\n",
      "%s not found\n",
      "%s not found\n",
      "%s not found\n",
      "%s not found\n",
      "%s not found\n",
      "%s not found\n",
      "%s not found\n",
      "%s not found\n",
      "%s not found\n",
      "%s not found\n",
      "%s not found\n",
      "%s not found\n",
      "%s not found\n",
      "%s not found\n",
      "%s not found\n",
      "%s not found\n",
      "%s not found\n",
      "%s not found\n",
      "%s not found\n",
      "%s not found\n",
      "%s not found\n",
      "%s not found\n",
      "%s not found\n",
      "%s not found\n",
      "%s not found\n",
      "%s not found\n",
      "%s not found\n",
      "[345303, 345303, 350020, 327017, 327017, 334911, 335702, 337339, 337339, 337518, 316548, 318908, 318908, 318908, 319193, 321575, 322043, 307006, 293968, 293968, 294892, 296619, 275571, 276358, 279034, 283803, 283803, 283803, 286152, 271493, 266495, 266495, 268601, 268737, 248459, 248459, 253715, 256195, 256195, 235568, 235748, 238188, 238188, 240837, 225394, 230256, 230316, 230433, 211545, 217048, 203477, 203477, 182635, 182812, 185442, 185442, 185739, 185739, 190454, 190454, 190630, 177626, 166985, 166985, 170092, 170092, 170141, 172212, 174700, 153972, 140593, 143137, 143137, 143137, 145833, 148523, 148523, 148698, 148698, 130656, 135491, 135591, 114086, 100373, 101482, 106227, 106227, 109010, 85435, 88160, 88160, 91109, 91109, 93462, 95838, 95838, 72910, 72910, 75478, 80126, 57313, 67875, 67875, 46336, 46336, 46336, 46517, 46517, 49025, 49025, 51709, 51891, 51891, 36103, 22579, 22579, 22579, 28175, 3636, 9879, 720, 720]\n"
     ]
    },
    {
     "data": {
      "image/png": "[encoded data removed]",
      "text/plain": [
       "<Figure size 1440x720 with 1 Axes>"
      ]
     },
     "metadata": {
      "needs_background": "light"
     },
     "output_type": "display_data"
    }
   ],
   "source": [
    "main(EC)"
   ]
  },
  {
   "cell_type": "code",
   "execution_count": null,
   "metadata": {},
   "outputs": [],
   "source": []
  },
  {
   "cell_type": "code",
   "execution_count": null,
   "metadata": {},
   "outputs": [],
   "source": []
  },
  {
   "cell_type": "code",
   "execution_count": null,
   "metadata": {},
   "outputs": [],
   "source": []
  },
  {
   "cell_type": "code",
   "execution_count": null,
   "metadata": {},
   "outputs": [],
   "source": []
  },
  {
   "cell_type": "code",
   "execution_count": null,
   "metadata": {},
   "outputs": [],
   "source": []
  }
 ],
 "metadata": {
  "kernelspec": {
   "display_name": "Python 3",
   "language": "python",
   "name": "python3"
  },
  "language_info": {
   "codemirror_mode": {
    "name": "ipython",
    "version": 3
   },
   "file_extension": ".py",
   "mimetype": "text/x-python",
   "name": "python",
   "nbconvert_exporter": "python",
   "pygments_lexer": "ipython3",
   "version": "3.7.2"
  }
 },
 "nbformat": 4,
 "nbformat_minor": 2
}
