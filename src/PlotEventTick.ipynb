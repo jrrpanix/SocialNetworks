{
 "cells": [
  {
   "cell_type": "code",
   "execution_count": 101,
   "metadata": {},
   "outputs": [
    {
     "data": {
      "text/html": [
       "<script type=\"text/javascript\">window.PlotlyConfig = {MathJaxConfig: 'local'};</script><script type=\"text/javascript\">if (window.MathJax) {MathJax.Hub.Config({SVG: {font: \"STIX-Web\"}});}</script><script>requirejs.config({paths: { 'plotly': ['https://cdn.plot.ly/plotly-latest.min']},});if(!window._Plotly) {require(['plotly'],function(plotly) {window._Plotly=plotly;});}</script>"
      ],
      "text/vnd.plotly.v1+html": [
       "<script type=\"text/javascript\">window.PlotlyConfig = {MathJaxConfig: 'local'};</script><script type=\"text/javascript\">if (window.MathJax) {MathJax.Hub.Config({SVG: {font: \"STIX-Web\"}});}</script><script>requirejs.config({paths: { 'plotly': ['https://cdn.plot.ly/plotly-latest.min']},});if(!window._Plotly) {require(['plotly'],function(plotly) {window._Plotly=plotly;});}</script>"
      ]
     },
     "metadata": {},
     "output_type": "display_data"
    }
   ],
   "source": [
    "import pandas\n",
    "from pytz import timezone\n",
    "from datetime import datetime, timedelta\n",
    "from ipywidgets import interact, Dropdown\n",
    "from plotly.offline import download_plotlyjs,init_notebook_mode, iplot\n",
    "from plotly.graph_objs import Candlestick\n",
    "\n",
    "from ReadH5 import ReadH5\n",
    "\n",
    "init_notebook_mode(connected=True)\n",
    "\n",
    "symbols = ['ES','TU','UB']\n",
    "periods = {\n",
    "'10 minutes': lambda dt: dt-timedelta(minutes=dt.minute%10, seconds=dt.second, microseconds=dt.microsecond),\n",
    "'5 minutes': lambda dt: dt-timedelta(minutes=dt.minute%5, seconds=dt.second, microseconds=dt.microsecond),\n",
    "'1 minute': lambda dt: dt-timedelta(seconds=dt.second, microseconds=dt.microsecond),\n",
    "'30 seconds': lambda dt: dt-timedelta(seconds=dt.second%30, microseconds=dt.microsecond),\n",
    "}\n",
    "                                      \n",
    "events = pandas.read_csv('../data/events.csv',names=['dt','curr','desc','imp','a','f','p','key'])\n",
    "events['dt'] = pandas.to_datetime(events['dt'],format=\"%Y-%m-%dT%H:%M:%S\").dt.tz_localize('UTC').dt.tz_convert(\"US/Central\").dt.tz_localize(None)\n",
    "grouped = events.groupby('key')"
   ]
  },
  {
   "cell_type": "code",
   "execution_count": 112,
   "metadata": {},
   "outputs": [],
   "source": [
    "def plot(data, event, groupfunc):\n",
    "    data['g'] = data['dt'].apply(groupfunc)\n",
    "    ohlc = data.groupby(['g']).agg({'dt':'first','price':['first','max','min','last']})\n",
    "    candles = Candlestick(x=ohlc.index\n",
    "                          ,open=ohlc['price']['first']\n",
    "                          ,high=ohlc['price']['max']\n",
    "                          ,low=ohlc['price']['min']\n",
    "                          ,close=ohlc['price']['last']\n",
    "                         ,whiskerwidth=1)\n",
    "    layout = {\n",
    "    'title':event.desc,\n",
    "    'shapes': [\n",
    "    {\n",
    "    'type': 'line', 'x0': event[0], 'y0': 0, 'x1': event[0], 'y1': 1,\n",
    "    'xref': 'x', 'yref': 'paper', 'line': {'color': 'rgb(0, 0, 255)'}\n",
    "    }\n",
    "    ]\n",
    "    }\n",
    "\n",
    "    return iplot({'data':[candles],'layout':layout})\n",
    "    \n",
    "df = None\n",
    "def load_data(symbol,dt,window=60): # window : one side window size in mins\n",
    "    global df, reader\n",
    "    if df is None or dt < reader.start_date or dt > reader.end_date:\n",
    "        reader = ReadH5('../data/splits/',reportNoData=False)\n",
    "        df = reader.readh5(symbol, dt)\n",
    "    before = (dt - timedelta(minutes=window)).floor('D')\n",
    "    after = (dt + timedelta(minutes=window)).ceil('D')\n",
    "    return df[(before <= df[\"dt\"]) & (df[\"dt\"] <= after)].copy()\n",
    "\n",
    "def onSelectEvent(*args):\n",
    "    group = grouped.get_group(evdrop.value).set_index('dt')\n",
    "    dtstrs = group.index.strftime('%b %d %Y, %r')\n",
    "    dtdrop.value = None\n",
    "    dtdrop.options = reversed(list(zip(dtstrs, group.itertuples())))\n",
    "    \n",
    "def run(sb,pd,_,ev):\n",
    "    if ev is not None:\n",
    "        data = load_data(sb,ev[0])\n",
    "        return plot(data,ev,pd)"
   ]
  },
  {
   "cell_type": "code",
   "execution_count": 113,
   "metadata": {},
   "outputs": [
    {
     "data": {
      "application/vnd.jupyter.widget-view+json": {
       "model_id": "081ea609db2e4d36a706dec9daaccccf",
       "version_major": 2,
       "version_minor": 0
      },
      "text/plain": [
       "interactive(children=(Dropdown(description='Security:', index=2, options=('ES', 'TU', 'UB'), value='UB'), Drop…"
      ]
     },
     "metadata": {},
     "output_type": "display_data"
    }
   ],
   "source": [
    "sbdrop = Dropdown(options=symbols,description=\"Security:\",value='UB')\n",
    "pddrop = Dropdown(options=periods,description=\"Periods:\")\n",
    "evdrop = Dropdown(options=grouped.groups.keys(),description=\"Event:\",value=None);\n",
    "dtdrop = Dropdown(description=\"Date:\")\n",
    "evdrop.observe(onSelectEvent, 'value')\n",
    "\n",
    "_ = interact(run, sb=sbdrop, pd=pddrop, _=evdrop, ev=dtdrop)"
   ]
  },
  {
   "cell_type": "code",
   "execution_count": null,
   "metadata": {},
   "outputs": [],
   "source": []
  }
 ],
 "metadata": {
  "kernelspec": {
   "display_name": "Python 3",
   "language": "python",
   "name": "python3"
  },
  "language_info": {
   "codemirror_mode": {
    "name": "ipython",
    "version": 3
   },
   "file_extension": ".py",
   "mimetype": "text/x-python",
   "name": "python",
   "nbconvert_exporter": "python",
   "pygments_lexer": "ipython3",
   "version": "3.6.8"
  }
 },
 "nbformat": 4,
 "nbformat_minor": 2
}
